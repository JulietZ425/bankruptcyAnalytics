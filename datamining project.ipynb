{
 "cells": [
  {
   "cell_type": "code",
   "execution_count": 2,
   "metadata": {},
   "outputs": [],
   "source": [
    "import pandas as pd\n",
    "import numpy as np\n",
    "import matplotlib.pyplot as plt"
   ]
  },
  {
   "cell_type": "code",
   "execution_count": 3,
   "metadata": {},
   "outputs": [],
   "source": [
    "train_data = pd.read_csv('bankruptcy_Train.csv')\n",
    "test_data = pd.read_csv('bankruptcy_Test_X.csv')\n",
    "test_data.drop('ID',axis=1,inplace=True)"
   ]
  },
  {
   "cell_type": "code",
   "execution_count": 4,
   "metadata": {},
   "outputs": [
    {
     "data": {
      "text/html": [
       "<div>\n",
       "<style scoped>\n",
       "    .dataframe tbody tr th:only-of-type {\n",
       "        vertical-align: middle;\n",
       "    }\n",
       "\n",
       "    .dataframe tbody tr th {\n",
       "        vertical-align: top;\n",
       "    }\n",
       "\n",
       "    .dataframe thead th {\n",
       "        text-align: right;\n",
       "    }\n",
       "</style>\n",
       "<table border=\"1\" class=\"dataframe\">\n",
       "  <thead>\n",
       "    <tr style=\"text-align: right;\">\n",
       "      <th></th>\n",
       "      <th>Attr1</th>\n",
       "      <th>Attr2</th>\n",
       "      <th>Attr3</th>\n",
       "      <th>Attr4</th>\n",
       "      <th>Attr5</th>\n",
       "      <th>Attr6</th>\n",
       "      <th>Attr7</th>\n",
       "      <th>Attr8</th>\n",
       "      <th>Attr9</th>\n",
       "      <th>Attr10</th>\n",
       "      <th>...</th>\n",
       "      <th>Attr56</th>\n",
       "      <th>Attr57</th>\n",
       "      <th>Attr58</th>\n",
       "      <th>Attr59</th>\n",
       "      <th>Attr60</th>\n",
       "      <th>Attr61</th>\n",
       "      <th>Attr62</th>\n",
       "      <th>Attr63</th>\n",
       "      <th>Attr64</th>\n",
       "      <th>class</th>\n",
       "    </tr>\n",
       "  </thead>\n",
       "  <tbody>\n",
       "    <tr>\n",
       "      <th>0</th>\n",
       "      <td>-0.0704</td>\n",
       "      <td>0.0863</td>\n",
       "      <td>-0.3440</td>\n",
       "      <td>-0.1817</td>\n",
       "      <td>0.0074</td>\n",
       "      <td>-0.0183</td>\n",
       "      <td>-0.0062</td>\n",
       "      <td>-0.5032</td>\n",
       "      <td>1.7305</td>\n",
       "      <td>-0.0982</td>\n",
       "      <td>...</td>\n",
       "      <td>0.0092</td>\n",
       "      <td>0.0057</td>\n",
       "      <td>-0.0094</td>\n",
       "      <td>-0.0219</td>\n",
       "      <td>-0.0126</td>\n",
       "      <td>-0.2162</td>\n",
       "      <td>-0.0135</td>\n",
       "      <td>-0.2022</td>\n",
       "      <td>0.0454</td>\n",
       "      <td>0</td>\n",
       "    </tr>\n",
       "    <tr>\n",
       "      <th>1</th>\n",
       "      <td>-0.0315</td>\n",
       "      <td>0.0162</td>\n",
       "      <td>0.0644</td>\n",
       "      <td>-0.1325</td>\n",
       "      <td>0.0055</td>\n",
       "      <td>-0.0291</td>\n",
       "      <td>-0.0020</td>\n",
       "      <td>-0.3084</td>\n",
       "      <td>-0.7645</td>\n",
       "      <td>-0.0094</td>\n",
       "      <td>...</td>\n",
       "      <td>0.0099</td>\n",
       "      <td>0.0080</td>\n",
       "      <td>-0.0099</td>\n",
       "      <td>-0.0196</td>\n",
       "      <td>-0.0471</td>\n",
       "      <td>-0.2753</td>\n",
       "      <td>0.0087</td>\n",
       "      <td>-0.5894</td>\n",
       "      <td>-0.0428</td>\n",
       "      <td>0</td>\n",
       "    </tr>\n",
       "    <tr>\n",
       "      <th>2</th>\n",
       "      <td>-0.3714</td>\n",
       "      <td>0.0319</td>\n",
       "      <td>-0.6809</td>\n",
       "      <td>-0.2078</td>\n",
       "      <td>0.0059</td>\n",
       "      <td>-0.0161</td>\n",
       "      <td>-0.0592</td>\n",
       "      <td>-0.3636</td>\n",
       "      <td>-0.3933</td>\n",
       "      <td>-0.0293</td>\n",
       "      <td>...</td>\n",
       "      <td>0.0117</td>\n",
       "      <td>-0.0324</td>\n",
       "      <td>-0.0109</td>\n",
       "      <td>-0.0206</td>\n",
       "      <td>-0.0462</td>\n",
       "      <td>0.0234</td>\n",
       "      <td>-0.0022</td>\n",
       "      <td>-0.5064</td>\n",
       "      <td>-0.0410</td>\n",
       "      <td>1</td>\n",
       "    </tr>\n",
       "  </tbody>\n",
       "</table>\n",
       "<p>3 rows × 65 columns</p>\n",
       "</div>"
      ],
      "text/plain": [
       "    Attr1   Attr2   Attr3   Attr4   Attr5   Attr6   Attr7   Attr8   Attr9  \\\n",
       "0 -0.0704  0.0863 -0.3440 -0.1817  0.0074 -0.0183 -0.0062 -0.5032  1.7305   \n",
       "1 -0.0315  0.0162  0.0644 -0.1325  0.0055 -0.0291 -0.0020 -0.3084 -0.7645   \n",
       "2 -0.3714  0.0319 -0.6809 -0.2078  0.0059 -0.0161 -0.0592 -0.3636 -0.3933   \n",
       "\n",
       "   Attr10  ...  Attr56  Attr57  Attr58  Attr59  Attr60  Attr61  Attr62  \\\n",
       "0 -0.0982  ...  0.0092  0.0057 -0.0094 -0.0219 -0.0126 -0.2162 -0.0135   \n",
       "1 -0.0094  ...  0.0099  0.0080 -0.0099 -0.0196 -0.0471 -0.2753  0.0087   \n",
       "2 -0.0293  ...  0.0117 -0.0324 -0.0109 -0.0206 -0.0462  0.0234 -0.0022   \n",
       "\n",
       "   Attr63  Attr64  class  \n",
       "0 -0.2022  0.0454      0  \n",
       "1 -0.5894 -0.0428      0  \n",
       "2 -0.5064 -0.0410      1  \n",
       "\n",
       "[3 rows x 65 columns]"
      ]
     },
     "execution_count": 4,
     "metadata": {},
     "output_type": "execute_result"
    }
   ],
   "source": [
    "train_data.head(3)"
   ]
  },
  {
   "cell_type": "code",
   "execution_count": 6,
   "metadata": {},
   "outputs": [
    {
     "data": {
      "text/html": [
       "<div>\n",
       "<style scoped>\n",
       "    .dataframe tbody tr th:only-of-type {\n",
       "        vertical-align: middle;\n",
       "    }\n",
       "\n",
       "    .dataframe tbody tr th {\n",
       "        vertical-align: top;\n",
       "    }\n",
       "\n",
       "    .dataframe thead th {\n",
       "        text-align: right;\n",
       "    }\n",
       "</style>\n",
       "<table border=\"1\" class=\"dataframe\">\n",
       "  <thead>\n",
       "    <tr style=\"text-align: right;\">\n",
       "      <th></th>\n",
       "      <th>Attr1</th>\n",
       "      <th>Attr2</th>\n",
       "      <th>Attr3</th>\n",
       "      <th>Attr4</th>\n",
       "      <th>Attr5</th>\n",
       "      <th>Attr6</th>\n",
       "      <th>Attr7</th>\n",
       "      <th>Attr8</th>\n",
       "      <th>Attr9</th>\n",
       "      <th>Attr10</th>\n",
       "      <th>...</th>\n",
       "      <th>Attr56</th>\n",
       "      <th>Attr57</th>\n",
       "      <th>Attr58</th>\n",
       "      <th>Attr59</th>\n",
       "      <th>Attr60</th>\n",
       "      <th>Attr61</th>\n",
       "      <th>Attr62</th>\n",
       "      <th>Attr63</th>\n",
       "      <th>Attr64</th>\n",
       "      <th>class</th>\n",
       "    </tr>\n",
       "  </thead>\n",
       "  <tbody>\n",
       "    <tr>\n",
       "      <th>count</th>\n",
       "      <td>10000.000000</td>\n",
       "      <td>10000.000000</td>\n",
       "      <td>10000.000000</td>\n",
       "      <td>10000.000000</td>\n",
       "      <td>10000.000000</td>\n",
       "      <td>10000.000000</td>\n",
       "      <td>10000.000000</td>\n",
       "      <td>10000.000000</td>\n",
       "      <td>10000.000000</td>\n",
       "      <td>10000.000000</td>\n",
       "      <td>...</td>\n",
       "      <td>10000.000000</td>\n",
       "      <td>10000.000000</td>\n",
       "      <td>10000.000000</td>\n",
       "      <td>10000.000000</td>\n",
       "      <td>10000.000000</td>\n",
       "      <td>10000.000000</td>\n",
       "      <td>10000.000000</td>\n",
       "      <td>10000.000000</td>\n",
       "      <td>10000.000000</td>\n",
       "      <td>10000.000000</td>\n",
       "    </tr>\n",
       "    <tr>\n",
       "      <th>mean</th>\n",
       "      <td>-0.009157</td>\n",
       "      <td>0.006348</td>\n",
       "      <td>0.010863</td>\n",
       "      <td>0.008542</td>\n",
       "      <td>0.008754</td>\n",
       "      <td>-0.003778</td>\n",
       "      <td>0.006704</td>\n",
       "      <td>-0.000856</td>\n",
       "      <td>-0.010930</td>\n",
       "      <td>-0.006547</td>\n",
       "      <td>...</td>\n",
       "      <td>-0.009801</td>\n",
       "      <td>-0.013509</td>\n",
       "      <td>0.009847</td>\n",
       "      <td>0.014134</td>\n",
       "      <td>0.001855</td>\n",
       "      <td>-0.010073</td>\n",
       "      <td>0.009683</td>\n",
       "      <td>0.001845</td>\n",
       "      <td>0.000212</td>\n",
       "      <td>0.021500</td>\n",
       "    </tr>\n",
       "    <tr>\n",
       "      <th>std</th>\n",
       "      <td>0.215420</td>\n",
       "      <td>0.094827</td>\n",
       "      <td>0.968869</td>\n",
       "      <td>1.289251</td>\n",
       "      <td>0.143395</td>\n",
       "      <td>0.619168</td>\n",
       "      <td>0.038732</td>\n",
       "      <td>1.079138</td>\n",
       "      <td>1.006380</td>\n",
       "      <td>0.119024</td>\n",
       "      <td>...</td>\n",
       "      <td>1.412866</td>\n",
       "      <td>1.330633</td>\n",
       "      <td>1.412864</td>\n",
       "      <td>1.405636</td>\n",
       "      <td>1.251921</td>\n",
       "      <td>1.056577</td>\n",
       "      <td>1.410930</td>\n",
       "      <td>1.162661</td>\n",
       "      <td>0.990925</td>\n",
       "      <td>0.145051</td>\n",
       "    </tr>\n",
       "    <tr>\n",
       "      <th>min</th>\n",
       "      <td>-5.317200</td>\n",
       "      <td>-0.170000</td>\n",
       "      <td>-12.170600</td>\n",
       "      <td>-0.381600</td>\n",
       "      <td>-1.111400</td>\n",
       "      <td>-22.442600</td>\n",
       "      <td>-0.399800</td>\n",
       "      <td>-1.039100</td>\n",
       "      <td>-1.296400</td>\n",
       "      <td>-3.300800</td>\n",
       "      <td>...</td>\n",
       "      <td>-117.531300</td>\n",
       "      <td>-118.282900</td>\n",
       "      <td>-0.024200</td>\n",
       "      <td>-4.816200</td>\n",
       "      <td>-0.048600</td>\n",
       "      <td>-0.413100</td>\n",
       "      <td>-0.022200</td>\n",
       "      <td>-0.743300</td>\n",
       "      <td>-0.051000</td>\n",
       "      <td>0.000000</td>\n",
       "    </tr>\n",
       "    <tr>\n",
       "      <th>25%</th>\n",
       "      <td>-0.079625</td>\n",
       "      <td>-0.055000</td>\n",
       "      <td>-0.516700</td>\n",
       "      <td>-0.192300</td>\n",
       "      <td>0.006800</td>\n",
       "      <td>-0.016000</td>\n",
       "      <td>-0.008000</td>\n",
       "      <td>-0.442525</td>\n",
       "      <td>-0.389500</td>\n",
       "      <td>-0.067000</td>\n",
       "      <td>...</td>\n",
       "      <td>0.009300</td>\n",
       "      <td>0.003200</td>\n",
       "      <td>-0.010800</td>\n",
       "      <td>-0.022700</td>\n",
       "      <td>-0.043400</td>\n",
       "      <td>-0.223400</td>\n",
       "      <td>-0.016800</td>\n",
       "      <td>-0.370700</td>\n",
       "      <td>-0.041500</td>\n",
       "      <td>0.000000</td>\n",
       "    </tr>\n",
       "    <tr>\n",
       "      <th>50%</th>\n",
       "      <td>-0.021300</td>\n",
       "      <td>-0.000050</td>\n",
       "      <td>0.005600</td>\n",
       "      <td>-0.118150</td>\n",
       "      <td>0.007300</td>\n",
       "      <td>-0.016000</td>\n",
       "      <td>0.003800</td>\n",
       "      <td>-0.261950</td>\n",
       "      <td>-0.311100</td>\n",
       "      <td>0.000200</td>\n",
       "      <td>...</td>\n",
       "      <td>0.009800</td>\n",
       "      <td>0.009800</td>\n",
       "      <td>-0.009900</td>\n",
       "      <td>-0.020400</td>\n",
       "      <td>-0.040000</td>\n",
       "      <td>-0.141200</td>\n",
       "      <td>-0.013700</td>\n",
       "      <td>-0.187750</td>\n",
       "      <td>-0.034400</td>\n",
       "      <td>0.000000</td>\n",
       "    </tr>\n",
       "    <tr>\n",
       "      <th>75%</th>\n",
       "      <td>0.076000</td>\n",
       "      <td>0.055100</td>\n",
       "      <td>0.602050</td>\n",
       "      <td>0.025650</td>\n",
       "      <td>0.007800</td>\n",
       "      <td>0.015800</td>\n",
       "      <td>0.023400</td>\n",
       "      <td>0.093750</td>\n",
       "      <td>0.131375</td>\n",
       "      <td>0.069500</td>\n",
       "      <td>...</td>\n",
       "      <td>0.010700</td>\n",
       "      <td>0.019600</td>\n",
       "      <td>-0.009400</td>\n",
       "      <td>-0.014400</td>\n",
       "      <td>-0.032100</td>\n",
       "      <td>-0.008750</td>\n",
       "      <td>-0.009500</td>\n",
       "      <td>0.119050</td>\n",
       "      <td>-0.021000</td>\n",
       "      <td>0.000000</td>\n",
       "    </tr>\n",
       "    <tr>\n",
       "      <th>max</th>\n",
       "      <td>2.337300</td>\n",
       "      <td>2.614600</td>\n",
       "      <td>3.332500</td>\n",
       "      <td>97.311600</td>\n",
       "      <td>11.556200</td>\n",
       "      <td>54.566700</td>\n",
       "      <td>0.410300</td>\n",
       "      <td>47.504500</td>\n",
       "      <td>62.936400</td>\n",
       "      <td>0.468300</td>\n",
       "      <td>...</td>\n",
       "      <td>0.022900</td>\n",
       "      <td>7.546400</td>\n",
       "      <td>117.517700</td>\n",
       "      <td>128.352800</td>\n",
       "      <td>117.341100</td>\n",
       "      <td>59.139200</td>\n",
       "      <td>136.430900</td>\n",
       "      <td>62.527200</td>\n",
       "      <td>90.774700</td>\n",
       "      <td>1.000000</td>\n",
       "    </tr>\n",
       "  </tbody>\n",
       "</table>\n",
       "<p>8 rows × 65 columns</p>\n",
       "</div>"
      ],
      "text/plain": [
       "              Attr1         Attr2         Attr3         Attr4         Attr5  \\\n",
       "count  10000.000000  10000.000000  10000.000000  10000.000000  10000.000000   \n",
       "mean      -0.009157      0.006348      0.010863      0.008542      0.008754   \n",
       "std        0.215420      0.094827      0.968869      1.289251      0.143395   \n",
       "min       -5.317200     -0.170000    -12.170600     -0.381600     -1.111400   \n",
       "25%       -0.079625     -0.055000     -0.516700     -0.192300      0.006800   \n",
       "50%       -0.021300     -0.000050      0.005600     -0.118150      0.007300   \n",
       "75%        0.076000      0.055100      0.602050      0.025650      0.007800   \n",
       "max        2.337300      2.614600      3.332500     97.311600     11.556200   \n",
       "\n",
       "              Attr6         Attr7         Attr8         Attr9        Attr10  \\\n",
       "count  10000.000000  10000.000000  10000.000000  10000.000000  10000.000000   \n",
       "mean      -0.003778      0.006704     -0.000856     -0.010930     -0.006547   \n",
       "std        0.619168      0.038732      1.079138      1.006380      0.119024   \n",
       "min      -22.442600     -0.399800     -1.039100     -1.296400     -3.300800   \n",
       "25%       -0.016000     -0.008000     -0.442525     -0.389500     -0.067000   \n",
       "50%       -0.016000      0.003800     -0.261950     -0.311100      0.000200   \n",
       "75%        0.015800      0.023400      0.093750      0.131375      0.069500   \n",
       "max       54.566700      0.410300     47.504500     62.936400      0.468300   \n",
       "\n",
       "       ...        Attr56        Attr57        Attr58        Attr59  \\\n",
       "count  ...  10000.000000  10000.000000  10000.000000  10000.000000   \n",
       "mean   ...     -0.009801     -0.013509      0.009847      0.014134   \n",
       "std    ...      1.412866      1.330633      1.412864      1.405636   \n",
       "min    ...   -117.531300   -118.282900     -0.024200     -4.816200   \n",
       "25%    ...      0.009300      0.003200     -0.010800     -0.022700   \n",
       "50%    ...      0.009800      0.009800     -0.009900     -0.020400   \n",
       "75%    ...      0.010700      0.019600     -0.009400     -0.014400   \n",
       "max    ...      0.022900      7.546400    117.517700    128.352800   \n",
       "\n",
       "             Attr60        Attr61        Attr62        Attr63        Attr64  \\\n",
       "count  10000.000000  10000.000000  10000.000000  10000.000000  10000.000000   \n",
       "mean       0.001855     -0.010073      0.009683      0.001845      0.000212   \n",
       "std        1.251921      1.056577      1.410930      1.162661      0.990925   \n",
       "min       -0.048600     -0.413100     -0.022200     -0.743300     -0.051000   \n",
       "25%       -0.043400     -0.223400     -0.016800     -0.370700     -0.041500   \n",
       "50%       -0.040000     -0.141200     -0.013700     -0.187750     -0.034400   \n",
       "75%       -0.032100     -0.008750     -0.009500      0.119050     -0.021000   \n",
       "max      117.341100     59.139200    136.430900     62.527200     90.774700   \n",
       "\n",
       "              class  \n",
       "count  10000.000000  \n",
       "mean       0.021500  \n",
       "std        0.145051  \n",
       "min        0.000000  \n",
       "25%        0.000000  \n",
       "50%        0.000000  \n",
       "75%        0.000000  \n",
       "max        1.000000  \n",
       "\n",
       "[8 rows x 65 columns]"
      ]
     },
     "execution_count": 6,
     "metadata": {},
     "output_type": "execute_result"
    }
   ],
   "source": [
    "train_data.describe()"
   ]
  },
  {
   "cell_type": "code",
   "execution_count": 46,
   "metadata": {},
   "outputs": [
    {
     "data": {
      "text/html": [
       "<div>\n",
       "<style scoped>\n",
       "    .dataframe tbody tr th:only-of-type {\n",
       "        vertical-align: middle;\n",
       "    }\n",
       "\n",
       "    .dataframe tbody tr th {\n",
       "        vertical-align: top;\n",
       "    }\n",
       "\n",
       "    .dataframe thead th {\n",
       "        text-align: right;\n",
       "    }\n",
       "</style>\n",
       "<table border=\"1\" class=\"dataframe\">\n",
       "  <thead>\n",
       "    <tr style=\"text-align: right;\">\n",
       "      <th></th>\n",
       "      <th>Attr1</th>\n",
       "      <th>Attr2</th>\n",
       "      <th>Attr3</th>\n",
       "      <th>Attr4</th>\n",
       "      <th>Attr5</th>\n",
       "      <th>Attr6</th>\n",
       "      <th>Attr7</th>\n",
       "      <th>Attr8</th>\n",
       "      <th>Attr9</th>\n",
       "      <th>Attr10</th>\n",
       "      <th>...</th>\n",
       "      <th>Attr55</th>\n",
       "      <th>Attr56</th>\n",
       "      <th>Attr57</th>\n",
       "      <th>Attr58</th>\n",
       "      <th>Attr59</th>\n",
       "      <th>Attr60</th>\n",
       "      <th>Attr61</th>\n",
       "      <th>Attr62</th>\n",
       "      <th>Attr63</th>\n",
       "      <th>Attr64</th>\n",
       "    </tr>\n",
       "  </thead>\n",
       "  <tbody>\n",
       "    <tr>\n",
       "      <th>0</th>\n",
       "      <td>0.0481</td>\n",
       "      <td>0.0221</td>\n",
       "      <td>0.5212</td>\n",
       "      <td>-0.0833</td>\n",
       "      <td>0.0076</td>\n",
       "      <td>-0.0160</td>\n",
       "      <td>0.0153</td>\n",
       "      <td>-0.3301</td>\n",
       "      <td>0.1265</td>\n",
       "      <td>-0.0168</td>\n",
       "      <td>...</td>\n",
       "      <td>-0.0813</td>\n",
       "      <td>0.0099</td>\n",
       "      <td>0.0172</td>\n",
       "      <td>-0.0101</td>\n",
       "      <td>-0.0182</td>\n",
       "      <td>-0.0414</td>\n",
       "      <td>-0.1646</td>\n",
       "      <td>-0.0109</td>\n",
       "      <td>-0.3241</td>\n",
       "      <td>-0.0200</td>\n",
       "    </tr>\n",
       "    <tr>\n",
       "      <th>1</th>\n",
       "      <td>0.0388</td>\n",
       "      <td>0.0542</td>\n",
       "      <td>-0.8472</td>\n",
       "      <td>-0.2481</td>\n",
       "      <td>0.0064</td>\n",
       "      <td>0.0469</td>\n",
       "      <td>0.0119</td>\n",
       "      <td>-0.4428</td>\n",
       "      <td>-0.2527</td>\n",
       "      <td>-0.0671</td>\n",
       "      <td>...</td>\n",
       "      <td>-0.1773</td>\n",
       "      <td>0.0111</td>\n",
       "      <td>0.0223</td>\n",
       "      <td>-0.0112</td>\n",
       "      <td>0.0010</td>\n",
       "      <td>-0.0357</td>\n",
       "      <td>-0.2001</td>\n",
       "      <td>-0.0071</td>\n",
       "      <td>-0.4291</td>\n",
       "      <td>-0.0463</td>\n",
       "    </tr>\n",
       "    <tr>\n",
       "      <th>2</th>\n",
       "      <td>-0.0354</td>\n",
       "      <td>-0.0373</td>\n",
       "      <td>0.0661</td>\n",
       "      <td>-0.0898</td>\n",
       "      <td>0.0073</td>\n",
       "      <td>-0.0005</td>\n",
       "      <td>0.0021</td>\n",
       "      <td>-0.0264</td>\n",
       "      <td>-0.3670</td>\n",
       "      <td>0.0574</td>\n",
       "      <td>...</td>\n",
       "      <td>-0.0014</td>\n",
       "      <td>0.0096</td>\n",
       "      <td>0.0061</td>\n",
       "      <td>-0.0098</td>\n",
       "      <td>-0.0196</td>\n",
       "      <td>-0.0413</td>\n",
       "      <td>-0.0941</td>\n",
       "      <td>-0.0152</td>\n",
       "      <td>-0.0688</td>\n",
       "      <td>-0.0372</td>\n",
       "    </tr>\n",
       "  </tbody>\n",
       "</table>\n",
       "<p>3 rows × 64 columns</p>\n",
       "</div>"
      ],
      "text/plain": [
       "    Attr1   Attr2   Attr3   Attr4   Attr5   Attr6   Attr7   Attr8   Attr9  \\\n",
       "0  0.0481  0.0221  0.5212 -0.0833  0.0076 -0.0160  0.0153 -0.3301  0.1265   \n",
       "1  0.0388  0.0542 -0.8472 -0.2481  0.0064  0.0469  0.0119 -0.4428 -0.2527   \n",
       "2 -0.0354 -0.0373  0.0661 -0.0898  0.0073 -0.0005  0.0021 -0.0264 -0.3670   \n",
       "\n",
       "   Attr10  ...  Attr55  Attr56  Attr57  Attr58  Attr59  Attr60  Attr61  \\\n",
       "0 -0.0168  ... -0.0813  0.0099  0.0172 -0.0101 -0.0182 -0.0414 -0.1646   \n",
       "1 -0.0671  ... -0.1773  0.0111  0.0223 -0.0112  0.0010 -0.0357 -0.2001   \n",
       "2  0.0574  ... -0.0014  0.0096  0.0061 -0.0098 -0.0196 -0.0413 -0.0941   \n",
       "\n",
       "   Attr62  Attr63  Attr64  \n",
       "0 -0.0109 -0.3241 -0.0200  \n",
       "1 -0.0071 -0.4291 -0.0463  \n",
       "2 -0.0152 -0.0688 -0.0372  \n",
       "\n",
       "[3 rows x 64 columns]"
      ]
     },
     "execution_count": 46,
     "metadata": {},
     "output_type": "execute_result"
    }
   ],
   "source": [
    "test_data.head(3)"
   ]
  },
  {
   "cell_type": "code",
   "execution_count": 47,
   "metadata": {},
   "outputs": [],
   "source": [
    "X = train_data.iloc[:,:-1]\n",
    "y = train_data.iloc[:,-1]"
   ]
  },
  {
   "cell_type": "code",
   "execution_count": 48,
   "metadata": {},
   "outputs": [
    {
     "data": {
      "text/plain": [
       "(array([0, 1], dtype=int64), array([9785,  215], dtype=int64))"
      ]
     },
     "execution_count": 48,
     "metadata": {},
     "output_type": "execute_result"
    }
   ],
   "source": [
    "np.unique(y,return_counts=True)"
   ]
  },
  {
   "cell_type": "code",
   "execution_count": 49,
   "metadata": {},
   "outputs": [],
   "source": [
    "corr=np.corrcoef(X)"
   ]
  },
  {
   "cell_type": "code",
   "execution_count": 50,
   "metadata": {},
   "outputs": [
    {
     "name": "stdout",
     "output_type": "stream",
     "text": [
      "215 9785 10000\n",
      "2000 2000\n",
      "4000 4000\n"
     ]
    }
   ],
   "source": [
    "from sklearn.utils import resample\n",
    "\n",
    "# num —— train \n",
    "num_train = 6000\n",
    "# balance the dataset\n",
    "bankrupted = X[y==1]\n",
    "not_bankrupted = X[y==0]\n",
    "\n",
    "print(len(bankrupted),len(not_bankrupted),len(X))\n",
    "\n",
    "\n",
    "bankrupted_upsampled = resample(bankrupted,\n",
    "                          replace=True,\n",
    "                          n_samples=num_train//3,\n",
    "                          random_state=511) \n",
    "\n",
    "not_bankrupted_sampled = resample(not_bankrupted,\n",
    "                          replace=False,\n",
    "                          n_samples=num_train//3,\n",
    "                          random_state=511) \n",
    "\n",
    "print(len(bankrupted_upsampled),len(not_bankrupted_sampled))\n",
    "# combine the dataset \n",
    "\n",
    "X_balanced = pd.concat([bankrupted_upsampled,not_bankrupted_sampled])\n",
    "y_balanced = np.concatenate([np.ones(len(bankrupted_upsampled)),np.zeros(len(not_bankrupted_sampled))])\n",
    "\n",
    "\n",
    "inds = np.arange(len(X_balanced))\n",
    "np.random.shuffle(inds)\n",
    "\n",
    "X_balanced = X_balanced.iloc[inds,:]\n",
    "y_balanced = y_balanced[inds]\n",
    "print(len(X_balanced),len(y_balanced))"
   ]
  },
  {
   "cell_type": "code",
   "execution_count": 10,
   "metadata": {},
   "outputs": [],
   "source": [
    "from sklearn.model_selection import train_test_split\n",
    "\n",
    "from sklearn import metrics\n",
    "\n",
    "# Train test splits\n",
    "X_train, X_test, y_train, y_test = train_test_split(X_balanced,y_balanced,test_size=0.1,random_state=511)"
   ]
  },
  {
   "cell_type": "code",
   "execution_count": 11,
   "metadata": {},
   "outputs": [],
   "source": [
    "def prediction(clf):\n",
    "    print(\"\\n\")\n",
    "    print(\"for \", clf.__class__)\n",
    "    clf.fit(X_train,y_train)\n",
    "\n",
    "    print(\"train_accuracy:\",clf.score(X_train,y_train))\n",
    "    print(\"test_accuracy:\",clf.score(X_test,y_test))\n",
    "\n",
    "    print(\"f1_score:\",metrics.f1_score(y_test, clf.predict(X_test)))\n",
    "    print(\"recall score:\",metrics.recall_score(y_test, clf.predict(X_test)))\n",
    "    \n",
    "    \n",
    "    probas_ = clf.predict_proba(X_test)\n",
    "    fpr, tpr, thresholds = metrics.roc_curve(y_test, probas_[:, 1])\n",
    "    roc_auc = metrics.auc(fpr, tpr)\n",
    "    print(\"auc: \", roc_auc)\n",
    "    \n",
    "    return clf"
   ]
  },
  {
   "cell_type": "code",
   "execution_count": 33,
   "metadata": {},
   "outputs": [],
   "source": [
    "from sklearn.ensemble import RandomForestClassifier,GradientBoostingClassifier\n",
    "from sklearn.linear_model import LogisticRegression\n",
    "from sklearn.svm import SVC\n",
    "from sklearn.naive_bayes import GaussianNB\n",
    "from sklearn.neighbors import KNeighborsClassifier\n",
    "from xgboost import XGBClassifier\n",
    "from sklearn.ensemble import AdaBoostClassifier\n",
    "from sklearn import metrics\n",
    "svc=SVC(probability=True, kernel='linear')\n",
    "\n",
    "rf_clf = RandomForestClassifier(n_estimators=4)\n",
    "logistic_clf = LogisticRegression()\n",
    "svc_clf = SVC(probability=True)\n",
    "naive_bayes_clf = GaussianNB()\n",
    "knn_clf = KNeighborsClassifier()\n",
    "gb_clf = GradientBoostingClassifier()\n",
    "xgb_clf = XGBClassifier(max_depth=6)\n",
    "abc =AdaBoostClassifier(n_estimators=50, base_estimator=svc,learning_rate=1)"
   ]
  },
  {
   "cell_type": "code",
   "execution_count": 26,
   "metadata": {},
   "outputs": [],
   "source": []
  },
  {
   "cell_type": "code",
   "execution_count": 34,
   "metadata": {},
   "outputs": [
    {
     "name": "stdout",
     "output_type": "stream",
     "text": [
      "\n",
      "\n",
      "for  <class 'sklearn.ensemble.forest.RandomForestClassifier'>\n",
      "train_accuracy: 0.9988888888888889\n",
      "test_accuracy: 0.9875\n",
      "f1_score: 0.9878345498783455\n",
      "recall score: 1.0\n",
      "auc:  1.0\n",
      "\n",
      "\n",
      "for  <class 'sklearn.linear_model.logistic.LogisticRegression'>\n",
      "train_accuracy: 0.8297222222222222\n",
      "test_accuracy: 0.845\n",
      "f1_score: 0.8577981651376146\n",
      "recall score: 0.9211822660098522\n",
      "auc:  0.9146057863019178\n",
      "\n",
      "\n",
      "for  <class 'sklearn.svm.classes.SVC'>\n"
     ]
    },
    {
     "name": "stderr",
     "output_type": "stream",
     "text": [
      "D:\\Anaconda3\\lib\\site-packages\\sklearn\\linear_model\\logistic.py:432: FutureWarning: Default solver will be changed to 'lbfgs' in 0.22. Specify a solver to silence this warning.\n",
      "  FutureWarning)\n",
      "D:\\Anaconda3\\lib\\site-packages\\sklearn\\svm\\base.py:193: FutureWarning: The default value of gamma will change from 'auto' to 'scale' in version 0.22 to account better for unscaled features. Set gamma explicitly to 'auto' or 'scale' to avoid this warning.\n",
      "  \"avoid this warning.\", FutureWarning)\n"
     ]
    },
    {
     "name": "stdout",
     "output_type": "stream",
     "text": [
      "train_accuracy: 0.8291666666666667\n",
      "test_accuracy: 0.8475\n",
      "f1_score: 0.8682505399568033\n",
      "recall score: 0.9901477832512315\n",
      "auc:  0.9224075416968818\n",
      "\n",
      "\n",
      "for  <class 'sklearn.naive_bayes.GaussianNB'>\n",
      "train_accuracy: 0.5347222222222222\n",
      "test_accuracy: 0.5075\n",
      "f1_score: 0.6513274336283187\n",
      "recall score: 0.9064039408866995\n",
      "auc:  0.530519366857543\n",
      "\n",
      "\n",
      "for  <class 'sklearn.neighbors.classification.KNeighborsClassifier'>\n",
      "train_accuracy: 0.9372222222222222\n",
      "test_accuracy: 0.9175\n",
      "f1_score: 0.9248291571753986\n",
      "recall score: 1.0\n",
      "auc:  0.9712810382336026\n",
      "\n",
      "\n",
      "for  <class 'sklearn.ensemble.gradient_boosting.GradientBoostingClassifier'>\n",
      "train_accuracy: 0.9625\n",
      "test_accuracy: 0.9575\n",
      "f1_score: 0.9598108747044917\n",
      "recall score: 1.0\n",
      "auc:  0.9922982671100998\n",
      "\n",
      "\n",
      "for  <class 'xgboost.sklearn.XGBClassifier'>\n",
      "train_accuracy: 0.9991666666666666\n",
      "test_accuracy: 0.98\n",
      "f1_score: 0.9806763285024155\n",
      "recall score: 1.0\n",
      "auc:  0.9998249606161386\n",
      "\n",
      "\n",
      "for  <class 'sklearn.ensemble.weight_boosting.AdaBoostClassifier'>\n",
      "train_accuracy: 0.66\n",
      "test_accuracy: 0.67\n",
      "f1_score: 0.6857142857142857\n",
      "recall score: 0.7093596059113301\n",
      "auc:  0.7638218599184816\n"
     ]
    }
   ],
   "source": [
    "rf_clf = prediction(rf_clf)\n",
    "logistic_clf = prediction(logistic_clf)\n",
    "svc_clf = prediction(svc_clf)\n",
    "naive_bayes_clf = prediction(naive_bayes_clf)\n",
    "knn_clf = prediction(knn_clf)\n",
    "gb_clf = prediction(gb_clf)\n",
    "xgb_clf = prediction(xgb_clf)\n",
    "abc_clf = abc.fit(X_train, y_train)\n",
    "abc_clftr = prediction(abc_clf)"
   ]
  },
  {
   "cell_type": "code",
   "execution_count": 14,
   "metadata": {},
   "outputs": [
    {
     "data": {
      "text/plain": [
       "[None, None, None, None, None, None, None]"
      ]
     },
     "execution_count": 14,
     "metadata": {},
     "output_type": "execute_result"
    },
    {
     "data": {
      "image/png": "[encoded data removed]",
      "text/plain": [
       "<Figure size 720x720 with 1 Axes>"
      ]
     },
     "metadata": {
      "needs_background": "light"
     },
     "output_type": "display_data"
    }
   ],
   "source": [
    "def draw_roc_curve(clf):\n",
    "    from scipy import interp\n",
    "    tprs = []\n",
    "    aucs = []\n",
    "    mean_fpr = np.linspace(0, 1, 100)\n",
    "    probas_ = clf.predict_proba(X_test)\n",
    "    fpr, tpr, thresholds = metrics.roc_curve(y_test, probas_[:, 1])\n",
    "    tprs.append(interp(mean_fpr, fpr, tpr))\n",
    "    tprs[-1][0] = 0.0\n",
    "    roc_auc = metrics.auc(fpr, tpr)\n",
    "    aucs.append(roc_auc)\n",
    "    plt.plot(fpr, tpr, lw=1,\n",
    "             \n",
    "    label='ROC %s (AUC = %0.2f)' % (clf.__class__,roc_auc))\n",
    "    plt.legend()\n",
    "    \n",
    "plt.figure(figsize=(10,10))\n",
    "\n",
    "clfs = [rf_clf,logistic_clf,svc_clf,naive_bayes_clf,knn_clf,gb_clf,xgb_clf]\n",
    "[draw_roc_curve(clf) for clf in clfs]"
   ]
  },
  {
   "cell_type": "code",
   "execution_count": 15,
   "metadata": {},
   "outputs": [],
   "source": [
    "sample = pd.read_csv('bankruptcy_sample_submission.csv')\n",
    "submission = sample.copy()\n",
    "submission['class'] = xgb_clf.predict_proba(test_data.iloc[:,1:])[:,1]"
   ]
  },
  {
   "cell_type": "code",
   "execution_count": 16,
   "metadata": {},
   "outputs": [],
   "source": [
    "submission.to_csv('test10101.csv',index=False)"
   ]
  },
  {
   "cell_type": "code",
   "execution_count": 21,
   "metadata": {},
   "outputs": [
    {
     "name": "stdout",
     "output_type": "stream",
     "text": [
      "-3.947409735051941\n"
     ]
    }
   ],
   "source": [
    "test345=pd.read_csv('345.csv')\n",
    "compare=pd.merge(test345,submission,on='ID')\n",
    "compare['differ']=(compare['class_x']-compare['class_y'])/compare['class_x']\n",
    "averagediff=sum(compare['differ'])/5000\n",
    "print(averagediff)"
   ]
  },
  {
   "cell_type": "markdown",
   "metadata": {},
   "source": [
    "#balance with SMOTE"
   ]
  },
  {
   "cell_type": "code",
   "execution_count": 195,
   "metadata": {},
   "outputs": [],
   "source": [
    "from imblearn.over_sampling import SMOTE"
   ]
  },
  {
   "cell_type": "code",
   "execution_count": 208,
   "metadata": {},
   "outputs": [],
   "source": [
    "sm = SMOTE(random_state=511)\n",
    "X_smot, y_smot = sm.fit_resample(X,y)\n",
    "X_smot = pd.DataFrame(X_smot)\n",
    "X_smot.columns = test_data.columns"
   ]
  },
  {
   "cell_type": "code",
   "execution_count": 209,
   "metadata": {},
   "outputs": [],
   "source": [
    "from sklearn.model_selection import train_test_split\n",
    "\n",
    "from sklearn import metrics\n",
    "\n",
    "# Train test splits\n",
    "X_train1, X_test1, y_train1, y_test1 = train_test_split(X_smot,y_smot,test_size=0.2,random_state=511)"
   ]
  },
  {
   "cell_type": "code",
   "execution_count": 210,
   "metadata": {},
   "outputs": [],
   "source": [
    "xgb2_clf = XGBClassifier(max_depth=10)"
   ]
  },
  {
   "cell_type": "code",
   "execution_count": 211,
   "metadata": {},
   "outputs": [],
   "source": [
    "def prediction1(clf):\n",
    "    print(\"\\n\")\n",
    "    print(\"for \", clf.__class__)\n",
    "    clf.fit(X_train1,y_train1)\n",
    "\n",
    "    print(\"train_accuracy:\",clf.score(X_train1,y_train1))\n",
    "    print(\"test_accuracy:\",clf.score(X_test1,y_test1))\n",
    "\n",
    "    print(\"f1_score:\",metrics.f1_score(y_test1, clf.predict(X_test1)))\n",
    "    print(\"recall score:\",metrics.recall_score(y_test1, clf.predict(X_test1)))\n",
    "    \n",
    "    \n",
    "    probas_ = clf.predict_proba(X_test1)\n",
    "    fpr, tpr, thresholds = metrics.roc_curve(y_test1, probas_[:, 1])\n",
    "    roc_auc = metrics.auc(fpr, tpr)\n",
    "    print(\"auc: \", roc_auc)\n",
    "    \n",
    "    return clf"
   ]
  },
  {
   "cell_type": "code",
   "execution_count": 212,
   "metadata": {},
   "outputs": [
    {
     "name": "stdout",
     "output_type": "stream",
     "text": [
      "\n",
      "\n",
      "for  <class 'xgboost.sklearn.XGBClassifier'>\n",
      "train_accuracy: 1.0\n",
      "test_accuracy: 0.9948901379662749\n",
      "f1_score: 0.9948293691830403\n",
      "recall score: 0.9989615784008308\n",
      "auc:  0.999946198478514\n"
     ]
    }
   ],
   "source": [
    "xgb2_prd = prediction1(xgb2_clf)"
   ]
  },
  {
   "cell_type": "code",
   "execution_count": 213,
   "metadata": {},
   "outputs": [
    {
     "data": {
      "text/plain": [
       "array([0.00427999, 0.01194598, 0.00820464, 0.00671412, 0.02348255,\n",
       "       0.03263186, 0.00748113, 0.00499848, 0.03734585, 0.00087121,\n",
       "       0.00839273, 0.00947479, 0.01861777, 0.00047876, 0.00470702,\n",
       "       0.00796144, 0.01121901, 0.00561574, 0.01095759, 0.00692802,\n",
       "       0.00364436, 0.01317372, 0.0111014 , 0.01308127, 0.00665057,\n",
       "       0.220649  , 0.01459238, 0.0051482 , 0.01119592, 0.00598894,\n",
       "       0.0101919 , 0.00792616, 0.0086238 , 0.17093147, 0.00851897,\n",
       "       0.00737007, 0.01337902, 0.0093663 , 0.01408897, 0.00579944,\n",
       "       0.01560327, 0.01007955, 0.00547429, 0.00650623, 0.00594643,\n",
       "       0.00855454, 0.00586522, 0.00854817, 0.01621561, 0.01411816,\n",
       "       0.01187918, 0.00926164, 0.00809046, 0.00636533, 0.00772535,\n",
       "       0.00755946, 0.00422559, 0.01402047, 0.00952615, 0.00823052,\n",
       "       0.01039649, 0.00979464, 0.00315369, 0.009129  ], dtype=float32)"
      ]
     },
     "execution_count": 213,
     "metadata": {},
     "output_type": "execute_result"
    }
   ],
   "source": [
    "xgb2_clf.feature_importances_"
   ]
  },
  {
   "cell_type": "code",
   "execution_count": 214,
   "metadata": {},
   "outputs": [
    {
     "data": {
      "text/plain": [
       "array([29, 43, 53, 24,  6, 19,  3, 35, 54, 55, 31, 25, 26, 23, 28, 22, 30,\n",
       "        1, 32, 33, 34, 21, 36, 37, 38, 18, 40, 41, 16, 15, 12, 45, 11, 47,\n",
       "       48, 49, 50, 51, 52, 10,  8,  5,  4, 57, 58, 59, 60, 61,  2, 63],\n",
       "      dtype=int64)"
      ]
     },
     "execution_count": 214,
     "metadata": {},
     "output_type": "execute_result"
    }
   ],
   "source": [
    "ind = np.argpartition(xgb2_clf.feature_importances_, -50)[-50:]\n",
    "#np.argpartition?\n",
    "ind"
   ]
  },
  {
   "cell_type": "code",
   "execution_count": 185,
   "metadata": {},
   "outputs": [
    {
     "data": {
      "text/plain": [
       "array([0.00427999, 0.01194598, 0.00820464, 0.00671412, 0.02348255,\n",
       "       0.03263186, 0.00748113, 0.00499848, 0.03734585, 0.00087121,\n",
       "       0.00839273, 0.00947479, 0.01861777, 0.00047876, 0.00470702,\n",
       "       0.00796144, 0.01121901, 0.00561574, 0.01095759, 0.00692802,\n",
       "       0.00364436, 0.01317372, 0.0111014 , 0.01308127, 0.00665057,\n",
       "       0.220649  , 0.01459238, 0.0051482 , 0.01119592, 0.00598894,\n",
       "       0.0101919 , 0.00792616, 0.0086238 , 0.17093147, 0.00851897,\n",
       "       0.00737007, 0.01337902, 0.0093663 , 0.01408897, 0.00579944,\n",
       "       0.01560327, 0.01007955, 0.00547429, 0.00650623, 0.00594643,\n",
       "       0.00855454, 0.00586522, 0.00854817, 0.01621561, 0.01411816,\n",
       "       0.01187918, 0.00926164, 0.00809046, 0.00636533, 0.00772535,\n",
       "       0.00755946, 0.00422559, 0.01402047, 0.00952615, 0.00823052,\n",
       "       0.01039649, 0.00979464, 0.00315369, 0.009129  ], dtype=float32)"
      ]
     },
     "execution_count": 185,
     "metadata": {},
     "output_type": "execute_result"
    }
   ],
   "source": [
    "xgb2_clf.feature_importances_"
   ]
  },
  {
   "cell_type": "code",
   "execution_count": 215,
   "metadata": {},
   "outputs": [
    {
     "data": {
      "text/plain": [
       "array([56,  0, 17,  7, 42, 27, 14, 39, 46, 44, 53, 43, 54,  6, 55, 19,  3,\n",
       "       35, 29, 24, 31, 25, 26, 23, 28, 22, 30,  1, 32, 33, 34, 21, 36, 37,\n",
       "       38, 18, 40, 41, 16, 15, 12, 45, 11, 47, 48, 49, 50, 51, 52, 10,  8,\n",
       "        5,  4, 57, 58, 59, 60, 61,  2, 63], dtype=int64)"
      ]
     },
     "execution_count": 215,
     "metadata": {},
     "output_type": "execute_result"
    }
   ],
   "source": [
    "# n largest\n",
    "inds = np.argpartition(xgb2_clf.feature_importances_, -60)[-60:]\n",
    "inds"
   ]
  },
  {
   "cell_type": "code",
   "execution_count": 216,
   "metadata": {},
   "outputs": [],
   "source": [
    "X_tr2 = X_smot.iloc[:,inds]\n",
    "y_tr2 = y_smot\n",
    "X_train2, X_test2, y_train2, y_test2 = train_test_split(X_tr2,y_tr2,test_size=0.2,random_state=511)"
   ]
  },
  {
   "cell_type": "code",
   "execution_count": 218,
   "metadata": {},
   "outputs": [],
   "source": [
    "def prediction2(clf):\n",
    "    print(\"\\n\")\n",
    "    print(\"for \", clf.__class__)\n",
    "    clf.fit(X_train2,y_train2)\n",
    "\n",
    "    print(\"train_accuracy:\",clf.score(X_train2,y_train2))\n",
    "    print(\"test_accuracy:\",clf.score(X_test2,y_test2))\n",
    "\n",
    "    print(\"f1_score:\",metrics.f1_score(y_test2, clf.predict(X_test2)))\n",
    "    print(\"recall score:\",metrics.recall_score(y_test2, clf.predict(X_test2)))\n",
    "    \n",
    "    \n",
    "    probas_ = clf.predict_proba(X_test2)\n",
    "    fpr, tpr, thresholds = metrics.roc_curve(y_test2, probas_[:, 1])\n",
    "    roc_auc = metrics.auc(fpr, tpr)\n",
    "    print(\"auc: \", roc_auc)\n",
    "    \n",
    "    return clf"
   ]
  },
  {
   "cell_type": "code",
   "execution_count": 219,
   "metadata": {},
   "outputs": [
    {
     "name": "stdout",
     "output_type": "stream",
     "text": [
      "\n",
      "\n",
      "for  <class 'xgboost.sklearn.XGBClassifier'>\n",
      "train_accuracy: 1.0\n",
      "test_accuracy: 0.9951456310679612\n",
      "f1_score: 0.9950866304628913\n",
      "recall score: 0.9989615784008308\n",
      "auc:  0.9999216482696803\n"
     ]
    }
   ],
   "source": [
    "xgbtr2_prd = prediction2(xgb2_clf)"
   ]
  },
  {
   "cell_type": "code",
   "execution_count": 220,
   "metadata": {},
   "outputs": [
    {
     "name": "stdout",
     "output_type": "stream",
     "text": [
      "0.14366935052613639\n"
     ]
    }
   ],
   "source": [
    "sample = pd.read_csv('bankruptcy_sample_submission.csv')\n",
    "submission = sample.copy()\n",
    "submission['class'] = xgb2_clf.predict_proba(test_data.iloc[:,inds])[:,1]\n",
    "# submission['class'] = xgb_clf.predict_proba(test_data)[:,1]\n",
    "rrrr=pd.read_csv('rrrr.csv')\n",
    "compare=pd.merge(rrrr,submission,on='ID')\n",
    "compare['differ']=(compare['class_x']-compare['class_y'])/compare['class_x']\n",
    "averagediff=sum(compare['differ'])/5000\n",
    "print(averagediff)"
   ]
  },
  {
   "cell_type": "code",
   "execution_count": 221,
   "metadata": {},
   "outputs": [],
   "source": [
    "submission.to_csv('test101up2.csv',index=False)"
   ]
  }
 ],
 "metadata": {
  "kernelspec": {
   "display_name": "Python 3",
   "language": "python",
   "name": "python3"
  },
  "language_info": {
   "codemirror_mode": {
    "name": "ipython",
    "version": 3
   },
   "file_extension": ".py",
   "mimetype": "text/x-python",
   "name": "python",
   "nbconvert_exporter": "python",
   "pygments_lexer": "ipython3",
   "version": "3.7.3"
  }
 },
 "nbformat": 4,
 "nbformat_minor": 2
}
